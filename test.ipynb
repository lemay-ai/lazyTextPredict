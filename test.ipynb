{
  "nbformat": 4,
  "nbformat_minor": 0,
  "metadata": {
    "colab": {
      "name": "Untitled7.ipynb",
      "provenance": []
    },
    "kernelspec": {
      "name": "python3",
      "display_name": "Python 3"
    }
  },
  "cells": [
    {
      "cell_type": "code",
      "metadata": {
        "id": "PJKfvfnCwi5f",
        "colab": {
          "base_uri": "https://localhost:8080/",
          "height": 417
        },
        "outputId": "fd061fcd-c8b4-4866-cb03-1d73012bb2e5"
      },
      "source": [
        "import sys\n",
        "!{sys.executable} -m pip install textract"
      ],
      "execution_count": null,
      "outputs": [
        {
          "output_type": "stream",
          "text": [
            "Requirement already satisfied: textract in /usr/local/lib/python3.6/dist-packages (1.6.3)\n",
            "Requirement already satisfied: chardet==3.0.4 in /usr/local/lib/python3.6/dist-packages (from textract) (3.0.4)\n",
            "Requirement already satisfied: six==1.12.0 in /usr/local/lib/python3.6/dist-packages (from textract) (1.12.0)\n",
            "Requirement already satisfied: SpeechRecognition==3.8.1 in /usr/local/lib/python3.6/dist-packages (from textract) (3.8.1)\n",
            "Requirement already satisfied: extract-msg==0.23.1 in /usr/local/lib/python3.6/dist-packages (from textract) (0.23.1)\n",
            "Requirement already satisfied: python-pptx==0.6.18 in /usr/local/lib/python3.6/dist-packages (from textract) (0.6.18)\n",
            "Requirement already satisfied: argcomplete==1.10.0 in /usr/local/lib/python3.6/dist-packages (from textract) (1.10.0)\n",
            "Requirement already satisfied: beautifulsoup4==4.8.0 in /usr/local/lib/python3.6/dist-packages (from textract) (4.8.0)\n",
            "Requirement already satisfied: docx2txt==0.8 in /usr/local/lib/python3.6/dist-packages (from textract) (0.8)\n",
            "Requirement already satisfied: pdfminer.six==20181108 in /usr/local/lib/python3.6/dist-packages (from textract) (20181108)\n",
            "Requirement already satisfied: EbookLib==0.17.1 in /usr/local/lib/python3.6/dist-packages (from textract) (0.17.1)\n",
            "Requirement already satisfied: xlrd==1.2.0 in /usr/local/lib/python3.6/dist-packages (from textract) (1.2.0)\n",
            "Requirement already satisfied: olefile==0.46 in /usr/local/lib/python3.6/dist-packages (from extract-msg==0.23.1->textract) (0.46)\n",
            "Requirement already satisfied: imapclient==2.1.0 in /usr/local/lib/python3.6/dist-packages (from extract-msg==0.23.1->textract) (2.1.0)\n",
            "Requirement already satisfied: tzlocal==1.5.1 in /usr/local/lib/python3.6/dist-packages (from extract-msg==0.23.1->textract) (1.5.1)\n",
            "Requirement already satisfied: lxml>=3.1.0 in /usr/local/lib/python3.6/dist-packages (from python-pptx==0.6.18->textract) (4.2.6)\n",
            "Requirement already satisfied: XlsxWriter>=0.5.7 in /usr/local/lib/python3.6/dist-packages (from python-pptx==0.6.18->textract) (1.2.8)\n",
            "Requirement already satisfied: Pillow>=3.3.2 in /usr/local/lib/python3.6/dist-packages (from python-pptx==0.6.18->textract) (7.0.0)\n",
            "Requirement already satisfied: soupsieve>=1.2 in /usr/local/lib/python3.6/dist-packages (from beautifulsoup4==4.8.0->textract) (2.0.1)\n",
            "Requirement already satisfied: sortedcontainers in /usr/local/lib/python3.6/dist-packages (from pdfminer.six==20181108->textract) (2.1.0)\n",
            "Requirement already satisfied: pycryptodome in /usr/local/lib/python3.6/dist-packages (from pdfminer.six==20181108->textract) (3.9.7)\n",
            "Requirement already satisfied: pytz in /usr/local/lib/python3.6/dist-packages (from tzlocal==1.5.1->extract-msg==0.23.1->textract) (2018.9)\n"
          ],
          "name": "stdout"
        }
      ]
    },
    {
      "cell_type": "code",
      "metadata": {
        "id": "zXeSm6h6w4cy",
        "colab": {
          "base_uri": "https://localhost:8080/",
          "height": 128
        },
        "outputId": "258fc3fc-df0a-41c4-d00c-bf1d3c9d6d6d"
      },
      "source": [
        "from google.colab import drive\n",
        "#mount drive ... replace with absolute paths below if you want to avoid using collab\n",
        "drive.mount('/content/gdrive')"
      ],
      "execution_count": null,
      "outputs": [
        {
          "output_type": "stream",
          "text": [
            "Go to this URL in a browser: https://accounts.google.com/o/oauth2/auth?client_id=947318989803-6bn6qk8qdgf4n4g3pfee6491hc0brc4i.apps.googleusercontent.com&redirect_uri=urn%3aietf%3awg%3aoauth%3a2.0%3aoob&response_type=code&scope=email%20https%3a%2f%2fwww.googleapis.com%2fauth%2fdocs.test%20https%3a%2f%2fwww.googleapis.com%2fauth%2fdrive%20https%3a%2f%2fwww.googleapis.com%2fauth%2fdrive.photos.readonly%20https%3a%2f%2fwww.googleapis.com%2fauth%2fpeopleapi.readonly\n",
            "\n",
            "Enter your authorization code:\n",
            "··········\n",
            "Mounted at /content/gdrive\n"
          ],
          "name": "stdout"
        }
      ]
    },
    {
      "cell_type": "code",
      "metadata": {
        "id": "I3st1hclwj3z",
        "colab": {
          "base_uri": "https://localhost:8080/",
          "height": 217
        },
        "outputId": "f981a1f5-9a1f-448c-ebc8-ae674e038b02"
      },
      "source": [
        "!wget https://www.kongsbergautomotive.com/globalassets/kongsberg-automotive-annual-report-2017.pdf"
      ],
      "execution_count": null,
      "outputs": [
        {
          "output_type": "stream",
          "text": [
            "--2020-05-20 11:07:12--  https://www.kongsbergautomotive.com/globalassets/kongsberg-automotive-annual-report-2017.pdf\n",
            "Resolving www.kongsbergautomotive.com (www.kongsbergautomotive.com)... 208.81.181.35\n",
            "Connecting to www.kongsbergautomotive.com (www.kongsbergautomotive.com)|208.81.181.35|:443... connected.\n",
            "HTTP request sent, awaiting response... 200 OK\n",
            "Length: 12558350 (12M) [application/pdf]\n",
            "Saving to: ‘kongsberg-automotive-annual-report-2017.pdf’\n",
            "\n",
            "kongsberg-automotiv 100%[===================>]  11.98M  2.58MB/s    in 4.7s    \n",
            "\n",
            "2020-05-20 11:07:17 (2.53 MB/s) - ‘kongsberg-automotive-annual-report-2017.pdf’ saved [12558350/12558350]\n",
            "\n"
          ],
          "name": "stdout"
        }
      ]
    },
    {
      "cell_type": "code",
      "metadata": {
        "id": "DKV4xff1wzW2"
      },
      "source": [
        "import textract\n",
        "text = textract.process(\"kongsberg-automotive-annual-report-2017.pdf\")"
      ],
      "execution_count": null,
      "outputs": []
    },
    {
      "cell_type": "code",
      "metadata": {
        "id": "Fojj-HzPxE45"
      },
      "source": [
        "fulltext=\" \".join(str(text).split(\"\\\\n\"))"
      ],
      "execution_count": null,
      "outputs": []
    },
    {
      "cell_type": "code",
      "metadata": {
        "id": "_7T3FGppyRaX",
        "colab": {
          "base_uri": "https://localhost:8080/",
          "height": 35
        },
        "outputId": "443b52b5-5e4a-400a-cb31-4abee8ce1c4a"
      },
      "source": [
        "len(fulltext)"
      ],
      "execution_count": null,
      "outputs": [
        {
          "output_type": "execute_result",
          "data": {
            "text/plain": [
              "271748"
            ]
          },
          "metadata": {
            "tags": []
          },
          "execution_count": 15
        }
      ]
    },
    {
      "cell_type": "code",
      "metadata": {
        "id": "0gfJq42nxOJJ"
      },
      "source": [
        "with open('/content/gdrive/My Drive/Deloitte/kongsberg-automotive-annual-report-2017.txt', 'w') as f:\n",
        "    f.write(fulltext)"
      ],
      "execution_count": null,
      "outputs": []
    },
    {
      "cell_type": "code",
      "metadata": {
        "id": "TfqAAI85yVnR",
        "colab": {
          "base_uri": "https://localhost:8080/"
        },
        "outputId": "9dffb1eb-0927-4daf-838e-0a520912d313"
      },
      "source": [
        "!gcloud init"
      ],
      "execution_count": null,
      "outputs": [
        {
          "output_type": "stream",
          "text": [
            "Welcome! This command will take you through the configuration of gcloud.\n",
            "\n",
            "Settings from your current configuration [default] are:\n",
            "component_manager:\n",
            "  disable_update_check: 'True'\n",
            "compute:\n",
            "  gce_metadata_read_timeout_sec: '0'\n",
            "\n",
            "Pick configuration to use:\n",
            " [1] Re-initialize this configuration [default] with new settings \n",
            " [2] Create a new configuration\n",
            "Please enter your numeric choice:  \n",
            "\n",
            "Command killed by keyboard interrupt\n",
            "\n",
            "^C\n"
          ],
          "name": "stdout"
        }
      ]
    },
    {
      "cell_type": "code",
      "metadata": {
        "colab": {
          "base_uri": "https://localhost:8080/"
        },
        "id": "wPYRFKvJMbOp",
        "outputId": "b59fee1b-a054-47e4-8805-6cba2d5fe79c"
      },
      "source": [
        " !gsutil cp gs://t5-data/pretrained_models/mt5/large/* ."
      ],
      "execution_count": null,
      "outputs": [
        {
          "output_type": "stream",
          "text": [
            "Copying gs://t5-data/pretrained_models/mt5/large/checkpoint...\n",
            "Copying gs://t5-data/pretrained_models/mt5/large/model.ckpt-1000000.data-00000-of-00064...\n",
            "Copying gs://t5-data/pretrained_models/mt5/large/model.ckpt-1000000.data-00001-of-00064...\n",
            "Copying gs://t5-data/pretrained_models/mt5/large/model.ckpt-1000000.data-00002-of-00064...\n",
            "| [4 files][509.5 MiB/509.5 MiB]                                                \n",
            "==> NOTE: You are performing a sequence of gsutil operations that may\n",
            "run significantly faster if you instead use gsutil -m cp ... Please\n",
            "see the -m section under \"gsutil help options\" for further information\n",
            "about when gsutil -m can be advantageous.\n",
            "\n",
            "Copying gs://t5-data/pretrained_models/mt5/large/model.ckpt-1000000.data-00003-of-00064...\n",
            "Copying gs://t5-data/pretrained_models/mt5/large/model.ckpt-1000000.data-00004-of-00064...\n",
            "Copying gs://t5-data/pretrained_models/mt5/large/model.ckpt-1000000.data-00005-of-00064...\n",
            "Copying gs://t5-data/pretrained_models/mt5/large/model.ckpt-1000000.data-00006-of-00064...\n",
            "Copying gs://t5-data/pretrained_models/mt5/large/model.ckpt-1000000.data-00007-of-00064...\n",
            "Copying gs://t5-data/pretrained_models/mt5/large/model.ckpt-1000000.data-00008-of-00064...\n",
            "Copying gs://t5-data/pretrained_models/mt5/large/model.ckpt-1000000.data-00009-of-00064...\n",
            "Copying gs://t5-data/pretrained_models/mt5/large/model.ckpt-1000000.data-00010-of-00064...\n",
            "Copying gs://t5-data/pretrained_models/mt5/large/model.ckpt-1000000.data-00011-of-00064...\n",
            "Copying gs://t5-data/pretrained_models/mt5/large/model.ckpt-1000000.data-00012-of-00064...\n",
            "Copying gs://t5-data/pretrained_models/mt5/large/model.ckpt-1000000.data-00013-of-00064...\n",
            "Copying gs://t5-data/pretrained_models/mt5/large/model.ckpt-1000000.data-00014-of-00064...\n",
            "Copying gs://t5-data/pretrained_models/mt5/large/model.ckpt-1000000.data-00015-of-00064...\n",
            "Copying gs://t5-data/pretrained_models/mt5/large/model.ckpt-1000000.data-00016-of-00064...\n",
            "Copying gs://t5-data/pretrained_models/mt5/large/model.ckpt-1000000.data-00017-of-00064...\n",
            "Copying gs://t5-data/pretrained_models/mt5/large/model.ckpt-1000000.data-00018-of-00064...\n",
            "Copying gs://t5-data/pretrained_models/mt5/large/model.ckpt-1000000.data-00019-of-00064...\n",
            "Copying gs://t5-data/pretrained_models/mt5/large/model.ckpt-1000000.data-00020-of-00064...\n",
            "Copying gs://t5-data/pretrained_models/mt5/large/model.ckpt-1000000.data-00021-of-00064...\n",
            "Copying gs://t5-data/pretrained_models/mt5/large/model.ckpt-1000000.data-00022-of-00064...\n",
            "Copying gs://t5-data/pretrained_models/mt5/large/model.ckpt-1000000.data-00023-of-00064...\n",
            "Copying gs://t5-data/pretrained_models/mt5/large/model.ckpt-1000000.data-00024-of-00064...\n",
            "Copying gs://t5-data/pretrained_models/mt5/large/model.ckpt-1000000.data-00025-of-00064...\n",
            "Copying gs://t5-data/pretrained_models/mt5/large/model.ckpt-1000000.data-00026-of-00064...\n",
            "Copying gs://t5-data/pretrained_models/mt5/large/model.ckpt-1000000.data-00027-of-00064...\n",
            "Copying gs://t5-data/pretrained_models/mt5/large/model.ckpt-1000000.data-00028-of-00064...\n",
            "Copying gs://t5-data/pretrained_models/mt5/large/model.ckpt-1000000.data-00029-of-00064...\n",
            "Copying gs://t5-data/pretrained_models/mt5/large/model.ckpt-1000000.data-00030-of-00064...\n",
            "Copying gs://t5-data/pretrained_models/mt5/large/model.ckpt-1000000.data-00031-of-00064...\n",
            "Copying gs://t5-data/pretrained_models/mt5/large/model.ckpt-1000000.data-00032-of-00064...\n",
            "Copying gs://t5-data/pretrained_models/mt5/large/model.ckpt-1000000.data-00033-of-00064...\n",
            "Copying gs://t5-data/pretrained_models/mt5/large/model.ckpt-1000000.data-00034-of-00064...\n",
            "Copying gs://t5-data/pretrained_models/mt5/large/model.ckpt-1000000.data-00035-of-00064...\n",
            "Copying gs://t5-data/pretrained_models/mt5/large/model.ckpt-1000000.data-00036-of-00064...\n",
            "Copying gs://t5-data/pretrained_models/mt5/large/model.ckpt-1000000.data-00037-of-00064...\n",
            "Copying gs://t5-data/pretrained_models/mt5/large/model.ckpt-1000000.data-00038-of-00064...\n",
            "Copying gs://t5-data/pretrained_models/mt5/large/model.ckpt-1000000.data-00039-of-00064...\n",
            "Copying gs://t5-data/pretrained_models/mt5/large/model.ckpt-1000000.data-00040-of-00064...\n",
            "Copying gs://t5-data/pretrained_models/mt5/large/model.ckpt-1000000.data-00041-of-00064...\n",
            "Copying gs://t5-data/pretrained_models/mt5/large/model.ckpt-1000000.data-00042-of-00064...\n",
            "Copying gs://t5-data/pretrained_models/mt5/large/model.ckpt-1000000.data-00043-of-00064...\n",
            "Copying gs://t5-data/pretrained_models/mt5/large/model.ckpt-1000000.data-00044-of-00064...\n",
            "Copying gs://t5-data/pretrained_models/mt5/large/model.ckpt-1000000.data-00045-of-00064...\n",
            "Copying gs://t5-data/pretrained_models/mt5/large/model.ckpt-1000000.data-00046-of-00064...\n",
            "Copying gs://t5-data/pretrained_models/mt5/large/model.ckpt-1000000.data-00047-of-00064...\n",
            "Copying gs://t5-data/pretrained_models/mt5/large/model.ckpt-1000000.data-00048-of-00064...\n",
            "Copying gs://t5-data/pretrained_models/mt5/large/model.ckpt-1000000.data-00049-of-00064...\n",
            "Copying gs://t5-data/pretrained_models/mt5/large/model.ckpt-1000000.data-00050-of-00064...\n",
            "Copying gs://t5-data/pretrained_models/mt5/large/model.ckpt-1000000.data-00051-of-00064...\n",
            "Copying gs://t5-data/pretrained_models/mt5/large/model.ckpt-1000000.data-00052-of-00064...\n",
            "Copying gs://t5-data/pretrained_models/mt5/large/model.ckpt-1000000.data-00053-of-00064...\n",
            "Copying gs://t5-data/pretrained_models/mt5/large/model.ckpt-1000000.data-00054-of-00064...\n",
            "Copying gs://t5-data/pretrained_models/mt5/large/model.ckpt-1000000.data-00055-of-00064...\n",
            "Copying gs://t5-data/pretrained_models/mt5/large/model.ckpt-1000000.data-00056-of-00064...\n",
            "Copying gs://t5-data/pretrained_models/mt5/large/model.ckpt-1000000.data-00057-of-00064...\n",
            "Copying gs://t5-data/pretrained_models/mt5/large/model.ckpt-1000000.data-00058-of-00064...\n",
            "Copying gs://t5-data/pretrained_models/mt5/large/model.ckpt-1000000.data-00059-of-00064...\n",
            "Copying gs://t5-data/pretrained_models/mt5/large/model.ckpt-1000000.data-00060-of-00064...\n",
            "Copying gs://t5-data/pretrained_models/mt5/large/model.ckpt-1000000.data-00061-of-00064...\n",
            "Copying gs://t5-data/pretrained_models/mt5/large/model.ckpt-1000000.data-00062-of-00064...\n",
            "Copying gs://t5-data/pretrained_models/mt5/large/model.ckpt-1000000.data-00063-of-00064...\n",
            "Copying gs://t5-data/pretrained_models/mt5/large/model.ckpt-1000000.index...\n",
            "Copying gs://t5-data/pretrained_models/mt5/large/model.ckpt-1000000.meta...\n",
            "Copying gs://t5-data/pretrained_models/mt5/large/operative_config.gin...\n",
            "Copying gs://t5-data/pretrained_models/mt5/large/pretrain_operative_config.gin...\n",
            "- [69 files][  2.4 GiB/  2.4 GiB]   71.2 MiB/s                                  \n",
            "==> NOTE: You are performing a sequence of gsutil operations that may\n",
            "run significantly faster if you instead use gsutil -m cp ... Please\n",
            "see the -m section under \"gsutil help options\" for further information\n",
            "about when gsutil -m can be advantageous.\n",
            "\n",
            "\n",
            "Operation completed over 69 objects/2.4 GiB.                                     \n"
          ],
          "name": "stdout"
        }
      ]
    },
    {
      "cell_type": "code",
      "metadata": {
        "colab": {
          "base_uri": "https://localhost:8080/"
        },
        "id": "I7aILw9nMpNQ",
        "outputId": "6a35d0d2-8986-4efe-cdf0-eb45a06fd20e"
      },
      "source": [
        "!ls"
      ],
      "execution_count": null,
      "outputs": [
        {
          "output_type": "stream",
          "text": [
            "model\n"
          ],
          "name": "stdout"
        }
      ]
    },
    {
      "cell_type": "code",
      "metadata": {
        "colab": {
          "base_uri": "https://localhost:8080/"
        },
        "id": "usLMoLFANA0H",
        "outputId": "4126e64b-6bd5-4160-951f-4f5e62c2e8df"
      },
      "source": [
        "!pwd"
      ],
      "execution_count": null,
      "outputs": [
        {
          "output_type": "stream",
          "text": [
            "/content\n"
          ],
          "name": "stdout"
        }
      ]
    },
    {
      "cell_type": "code",
      "metadata": {
        "id": "pZ9IVuGYNCYn"
      },
      "source": [
        "!mkdir model"
      ],
      "execution_count": null,
      "outputs": []
    },
    {
      "cell_type": "code",
      "metadata": {
        "id": "tmOakoQGNFaH"
      },
      "source": [
        "!mv model /content/drive/MyDrive/AuditMapData/mt5"
      ],
      "execution_count": null,
      "outputs": []
    },
    {
      "cell_type": "code",
      "metadata": {
        "colab": {
          "base_uri": "https://localhost:8080/"
        },
        "id": "eJTMD1sVxuPd",
        "outputId": "f9fb1956-07fc-47da-fcfc-2a7fb452d16d"
      },
      "source": [
        "!cd /content/drive/MyDrive/AuditMapData/ && zip -r --store mt5.zip mt5/"
      ],
      "execution_count": null,
      "outputs": [
        {
          "output_type": "stream",
          "text": [
            "  adding: mt5/ (stored 0%)\n",
            "  adding: mt5/sample_data/ (stored 0%)\n",
            "  adding: mt5/sample_data/README.md (stored 0%)\n",
            "  adding: mt5/sample_data/anscombe.json (stored 0%)\n",
            "  adding: mt5/sample_data/california_housing_train.csv (stored 0%)\n",
            "  adding: mt5/sample_data/california_housing_test.csv (stored 0%)\n",
            "  adding: mt5/sample_data/mnist_test.csv (stored 0%)\n",
            "  adding: mt5/sample_data/mnist_train_small.csv (stored 0%)\n",
            "  adding: mt5/checkpoint (stored 0%)\n",
            "  adding: mt5/model.ckpt-1000000.data-00000-of-00064 (stored 0%)\n",
            "  adding: mt5/model.ckpt-1000000.data-00001-of-00064 (stored 0%)\n",
            "  adding: mt5/model.ckpt-1000000.data-00003-of-00064 (stored 0%)\n",
            "  adding: mt5/model.ckpt-1000000.data-00002-of-00064 (stored 0%)\n",
            "  adding: mt5/model.ckpt-1000000.data-00005-of-00064 (stored 0%)\n",
            "  adding: mt5/model.ckpt-1000000.data-00004-of-00064 (stored 0%)\n",
            "  adding: mt5/model.ckpt-1000000.data-00006-of-00064 (stored 0%)\n",
            "  adding: mt5/model.ckpt-1000000.data-00007-of-00064 (stored 0%)\n",
            "  adding: mt5/model.ckpt-1000000.data-00008-of-00064 (stored 0%)\n",
            "  adding: mt5/model.ckpt-1000000.data-00009-of-00064 (stored 0%)\n",
            "  adding: mt5/model.ckpt-1000000.data-00011-of-00064 (stored 0%)\n",
            "  adding: mt5/model.ckpt-1000000.data-00010-of-00064 (stored 0%)\n",
            "  adding: mt5/model.ckpt-1000000.data-00012-of-00064 (stored 0%)\n",
            "  adding: mt5/model.ckpt-1000000.data-00013-of-00064 (stored 0%)\n",
            "  adding: mt5/model.ckpt-1000000.data-00014-of-00064 (stored 0%)\n",
            "  adding: mt5/model.ckpt-1000000.data-00015-of-00064 (stored 0%)\n",
            "  adding: mt5/model.ckpt-1000000.data-00016-of-00064 (stored 0%)\n",
            "  adding: mt5/model.ckpt-1000000.data-00017-of-00064 (stored 0%)\n",
            "  adding: mt5/model.ckpt-1000000.data-00019-of-00064 (stored 0%)\n",
            "  adding: mt5/model.ckpt-1000000.data-00018-of-00064 (stored 0%)\n",
            "  adding: mt5/model.ckpt-1000000.data-00020-of-00064 (stored 0%)\n",
            "  adding: mt5/model.ckpt-1000000.data-00022-of-00064 (stored 0%)\n",
            "  adding: mt5/model.ckpt-1000000.data-00021-of-00064 (stored 0%)\n",
            "  adding: mt5/model.ckpt-1000000.data-00023-of-00064 (stored 0%)\n",
            "  adding: mt5/model.ckpt-1000000.data-00024-of-00064 (stored 0%)\n",
            "  adding: mt5/model.ckpt-1000000.data-00025-of-00064 (stored 0%)\n",
            "  adding: mt5/model.ckpt-1000000.data-00026-of-00064 (stored 0%)\n",
            "  adding: mt5/model.ckpt-1000000.data-00027-of-00064 (stored 0%)\n",
            "  adding: mt5/model.ckpt-1000000.data-00028-of-00064 (stored 0%)\n",
            "  adding: mt5/model.ckpt-1000000.data-00029-of-00064 (stored 0%)\n",
            "  adding: mt5/model.ckpt-1000000.data-00031-of-00064 (stored 0%)\n",
            "  adding: mt5/model.ckpt-1000000.data-00030-of-00064 (stored 0%)\n",
            "  adding: mt5/model.ckpt-1000000.data-00032-of-00064 (stored 0%)\n",
            "  adding: mt5/model.ckpt-1000000.data-00033-of-00064 (stored 0%)\n",
            "  adding: mt5/model.ckpt-1000000.data-00034-of-00064 (stored 0%)\n",
            "  adding: mt5/model.ckpt-1000000.data-00035-of-00064 (stored 0%)\n",
            "  adding: mt5/model.ckpt-1000000.data-00036-of-00064 (stored 0%)\n",
            "  adding: mt5/model.ckpt-1000000.data-00037-of-00064 (stored 0%)\n",
            "  adding: mt5/model.ckpt-1000000.data-00038-of-00064 (stored 0%)\n",
            "  adding: mt5/model.ckpt-1000000.data-00039-of-00064 (stored 0%)\n",
            "  adding: mt5/model.ckpt-1000000.data-00040-of-00064 (stored 0%)\n",
            "  adding: mt5/model.ckpt-1000000.data-00042-of-00064 (stored 0%)\n",
            "  adding: mt5/model.ckpt-1000000.data-00041-of-00064 (stored 0%)\n",
            "  adding: mt5/model.ckpt-1000000.data-00043-of-00064 (stored 0%)\n",
            "  adding: mt5/model.ckpt-1000000.data-00044-of-00064 (stored 0%)\n",
            "  adding: mt5/model.ckpt-1000000.data-00045-of-00064 (stored 0%)\n",
            "  adding: mt5/model.ckpt-1000000.data-00046-of-00064 (stored 0%)\n",
            "  adding: mt5/model.ckpt-1000000.data-00047-of-00064 (stored 0%)\n",
            "  adding: mt5/model.ckpt-1000000.data-00048-of-00064 (stored 0%)\n",
            "  adding: mt5/model.ckpt-1000000.data-00049-of-00064 (stored 0%)\n",
            "  adding: mt5/model.ckpt-1000000.data-00050-of-00064 (stored 0%)\n",
            "  adding: mt5/model.ckpt-1000000.data-00052-of-00064 (stored 0%)\n",
            "  adding: mt5/model.ckpt-1000000.data-00051-of-00064 (stored 0%)\n",
            "  adding: mt5/model.ckpt-1000000.data-00053-of-00064 (stored 0%)\n",
            "  adding: mt5/model.ckpt-1000000.data-00054-of-00064 (stored 0%)\n",
            "  adding: mt5/model.ckpt-1000000.data-00055-of-00064 (stored 0%)\n",
            "  adding: mt5/model.ckpt-1000000.data-00056-of-00064 (stored 0%)\n",
            "  adding: mt5/model.ckpt-1000000.data-00057-of-00064 (stored 0%)\n",
            "  adding: mt5/model.ckpt-1000000.data-00058-of-00064 (stored 0%)\n",
            "  adding: mt5/model.ckpt-1000000.data-00059-of-00064 (stored 0%)\n",
            "  adding: mt5/model.ckpt-1000000.data-00060-of-00064 (stored 0%)\n",
            "  adding: mt5/model.ckpt-1000000.data-00061-of-00064 (stored 0%)\n",
            "  adding: mt5/model.ckpt-1000000.data-00062-of-00064 (stored 0%)\n",
            "  adding: mt5/model.ckpt-1000000.data-00063-of-00064 (stored 0%)\n",
            "  adding: mt5/model.ckpt-1000000.index (stored 0%)\n",
            "  adding: mt5/operative_config.gin (stored 0%)\n",
            "  adding: mt5/pretrain_operative_config.gin (stored 0%)\n",
            "  adding: mt5/model.ckpt-1000000.meta (stored 0%)\n"
          ],
          "name": "stdout"
        }
      ]
    },
    {
      "cell_type": "code",
      "metadata": {
        "id": "RAY3RLt6yhR3"
      },
      "source": [
        ""
      ],
      "execution_count": null,
      "outputs": []
    }
  ]
}